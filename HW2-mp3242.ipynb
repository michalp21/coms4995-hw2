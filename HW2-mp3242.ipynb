{
 "cells": [
  {
   "cell_type": "markdown",
   "metadata": {
    "collapsed": true
   },
   "source": [
    "# COMS 4995_002 Deep Learning Assignment 2\n",
    "Due on Thursday, Feb 27, 11:59pm\n",
    "\n",
    "This assignment can be done in groups of at most 2 students. Everyone must submit on Courseworks individually."
   ]
  },
  {
   "cell_type": "markdown",
   "metadata": {},
   "source": [
    "Write down the UNIs of your group (if applicable)\n",
    "\n",
    "Member 1: Michal Porubcin, mp3242\n",
    "\n",
    "Member 2: Daniel Echlin, dje2126"
   ]
  },
  {
   "cell_type": "code",
   "execution_count": 1,
   "metadata": {},
   "outputs": [],
   "source": [
    "%matplotlib inline\n",
    "import matplotlib.pyplot as plt\n",
    "import numpy as np\n",
    "import scipy.misc\n",
    "import glob\n",
    "import sys\n",
    "import random"
   ]
  },
  {
   "cell_type": "code",
   "execution_count": null,
   "metadata": {},
   "outputs": [],
   "source": [
    "# Load the data\n",
    "data_root_path = './cifar10-hw1/'\n",
    "# data_root_path = './cifar10-simple/'\n",
    "X_train, y_train = get_train_data(data_root_path) # this may take a few minutes\n",
    "X_centered = (X_train - np.mean(X_train, axis=1)[:, np.newaxis])\n",
    "X_div = (X_centered / np.std(X_centered, axis=1)[:, np.newaxis])\n",
    "X_train = X_div\n",
    "print('Train data loading done')"
   ]
  },
  {
   "cell_type": "code",
   "execution_count": null,
   "metadata": {},
   "outputs": [],
   "source": [
    "X_test = get_images(data_root_path + 'test')\n",
    "X_centered = (X_test - np.mean(X_test, axis=1)[:, np.newaxis])\n",
    "X_div = (X_centered / np.std(X_centered, axis=1)[:, np.newaxis])\n",
    "X_test = X_div\n",
    "\n",
    "print('Test data loading done')"
   ]
  },
  {
   "cell_type": "code",
   "execution_count": null,
   "metadata": {},
   "outputs": [],
   "source": [
    "layer_dimensions = [X_train.shape[0], 1536, 10]\n",
    "NN = NeuralNetwork(layer_dimensions, drop_prob=0)\n",
    "NN.train(X_train, y_train, iters=2500, alpha=0.0005, batch_size=200)"
   ]
  },
  {
   "cell_type": "code",
   "execution_count": 33,
   "metadata": {},
   "outputs": [],
   "source": [
    "y_predicted, cache = NN.predict(X_test)\n",
    "save_predictions('ans1-mp3242', y_predicted)"
   ]
  },
  {
   "cell_type": "code",
   "execution_count": null,
   "metadata": {},
   "outputs": [],
   "source": [
    "# test if your numpy file has been saved correctly\n",
    "loaded_y = np.load('ans1-mp3242.npy')\n",
    "print(loaded_y.shape)\n",
    "loaded_y[:10]"
   ]
  },
  {
   "cell_type": "markdown",
   "metadata": {},
   "source": [
    "# Write down results here:\n",
    "\n",
    "Below is our setup:\n",
    "- Hidden Layers: [1536]\n",
    "- alpha: .0005, decay factor: .83 (manually set on line 384)\n",
    "- Batch size: 200\n",
    "- 2500 iterations\n",
    "\n",
    "We got about xx% validation accuracy with this run.\n",
    "\n",
    "Blablabla"
   ]
  }
 ],
 "metadata": {
  "kernelspec": {
   "display_name": "Python 3",
   "language": "python",
   "name": "python3"
  },
  "language_info": {
   "codemirror_mode": {
    "name": "ipython",
    "version": 3
   },
   "file_extension": ".py",
   "mimetype": "text/x-python",
   "name": "python",
   "nbconvert_exporter": "python",
   "pygments_lexer": "ipython3",
   "version": "3.6.0"
  }
 },
 "nbformat": 4,
 "nbformat_minor": 1
}
